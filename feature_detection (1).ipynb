{
  "cells": [
    {
      "cell_type": "code",
      "execution_count": null,
      "metadata": {
        "colab": {
          "base_uri": "https://localhost:8080/"
        },
        "id": "Q0lOKDI-AE0W",
        "outputId": "615e94ed-40b9-4271-8fe7-f846c31185d8"
      },
      "outputs": [
        {
          "output_type": "stream",
          "name": "stdout",
          "text": [
            "Drive already mounted at /content/drive; to attempt to forcibly remount, call drive.mount(\"/content/drive\", force_remount=True).\n"
          ]
        }
      ],
      "source": [
        "from google.colab import drive\n",
        "drive.mount('/content/drive')"
      ]
    },
    {
      "cell_type": "code",
      "execution_count": null,
      "metadata": {
        "id": "MRqnMXWKAQF-"
      },
      "outputs": [],
      "source": [
        "import os\n",
        "os.chdir('/content/drive/Shareddrives/ECE 4554 Computer Vision: Celestial Map Generation/feature point detection')"
      ]
    },
    {
      "cell_type": "code",
      "execution_count": null,
      "metadata": {
        "id": "_8i4HLYHHxSC"
      },
      "outputs": [],
      "source": [
        "import cv2 # OpenCV library\n",
        "from PIL import Image # Python Imaging Library\n",
        "import numpy as np\n",
        "import matplotlib.pyplot as plt\n",
        "from itertools import combinations\n",
        "\n",
        "from google.colab.patches import cv2_imshow"
      ]
    },
    {
      "cell_type": "code",
      "execution_count": null,
      "metadata": {
        "id": "i-Ez5zKrIds8"
      },
      "outputs": [],
      "source": [
        "def linear_filter(img_in, kernel):\n",
        "  '''Filter an input image by applying cross-correlation with a kernel.\n",
        "\n",
        "  Input: \n",
        "    img_in: a grayscale image of any size larger than the kernel, \n",
        "     in both row and column directions.\n",
        "    kernel: a 2D array of floating-point values;\n",
        "     you may assume that this array is square, \n",
        "     with an odd number of rows and an odd number of columns;\n",
        "     use the *center* of this kernel as its point of reference for filtering.\n",
        "     Perform cross-correlation (do not reverse the kernel).\n",
        "\n",
        "  Return value:\n",
        "     an image with the same row/column size as img_in, \n",
        "     but each pixel is a floating-point value;\n",
        "     apply the kernel only at locations where it fits entirely within the \n",
        "     input image; \n",
        "     the remaining pixels (near the outside border of the output image)\n",
        "     must be set to zero;\n",
        "     for any negative values, take the absolute value;\n",
        "     clip the final output so that every pixel value lies in the range 0 to 255.\n",
        "\n",
        "  '''\n",
        "\n",
        "  # The following line is simply a placeholder; replace it with your code\n",
        "  \n",
        "  k_h,k_w = np.shape(kernel)\n",
        "  m = k_h//2\n",
        "  n = k_w//2\n",
        "  h,w = np.shape(img_in)\n",
        "  img_out = np.zeros((h,w), dtype=np.float32)\n",
        "  for i in range(h-m):\n",
        "    for j in range(w-n):\n",
        "      current_out = 0\n",
        "      for k in range(-m, m+1):\n",
        "        for l in range(-n, n+1):\n",
        "          current_out += img_in[i+k,j+l]*kernel[k+m,l+n]\n",
        "          if current_out > 255:\n",
        "            current_out = 255\n",
        "      img_out[i,j] = (abs(np.float32(current_out)))\n",
        "      \n",
        "  return img_out # Each pixel must be of type np.float32\n",
        "  "
      ]
    },
    {
      "cell_type": "code",
      "execution_count": null,
      "metadata": {
        "id": "ioQvwjKbAteD"
      },
      "outputs": [],
      "source": [
        "def gaussian_kernel():\n",
        "    \"\"\"\n",
        "    Return a Gaussian kernel, to be used for image filtering\n",
        "        \n",
        "    Input parameters: \n",
        "     none\n",
        "\n",
        "    Return value:\n",
        "     a kernel of size 7x7, \n",
        "     approximating a 2D Gaussian function with sigma = 0.63\n",
        "\n",
        "    \"\"\"\n",
        "\n",
        "    # The following line is simply a placeholder; replace it with your code\n",
        "    newkernel = np.zeros((7, 7), dtype = float)\n",
        "\n",
        "    size = 7\n",
        "    m = size//2\n",
        "    n = m\n",
        "\n",
        "    sigma = 0.63\n",
        "    const = 1/(2*np.pi*(sigma**2))\n",
        "\n",
        "    for x in range(-m, m+1):\n",
        "      for y in range(-n, n+1):\n",
        "        exp = -(x**2 + y**2)/(2*(sigma**2))\n",
        "        newkernel[x+m,y+n] = const*pow(np.e,exp)\n",
        "  \n",
        "    return newkernel"
      ]
    },
    {
      "cell_type": "code",
      "execution_count": null,
      "metadata": {
        "id": "NfcQDnMCDgOj"
      },
      "outputs": [],
      "source": [
        "def subsample(img_in):\n",
        "  '''Create a new image that has half the resolution as the input image\n",
        "     by discarding pixels\n",
        "\n",
        "  Input: \n",
        "    img_in: a grayscale image \n",
        "\n",
        "  Return value:\n",
        "    img_out: a new image of half size \n",
        "  '''\n",
        "  h,w = np.shape(img_in)\n",
        "  h = h//2\n",
        "  w = w//2\n",
        "  img_out = np.zeros((h, w))\n",
        "\n",
        "  for i in range(h):\n",
        "    for j in range(w):\n",
        "      img_out[i][j] = img_in[2*i][2*j]\n",
        "\n",
        "  return img_out"
      ]
    },
    {
      "cell_type": "code",
      "execution_count": null,
      "metadata": {
        "id": "Kh4oMUK1I3qf"
      },
      "outputs": [],
      "source": [
        "def dog(img):\n",
        "  \"\"\"\n",
        "  Return the difference of the input image and the image filtered by the gaussian kernel\n",
        "\n",
        "  Input:\n",
        "  img_in: The input image\n",
        "\n",
        "  Returns:\n",
        "  dog: The differece of the input image and the image filtered by the gaussian kernel\n",
        "\n",
        "  \"\"\"\n",
        "  img_in = cv2.bitwise_not(img)\n",
        "  kernel = gaussian_kernel()\n",
        "  blurred = linear_filter(img_in, kernel)\n",
        "  diff = img_in - blurred \n",
        "  return diff"
      ]
    },
    {
      "cell_type": "code",
      "execution_count": null,
      "metadata": {
        "id": "HwHjkboKS4SH"
      },
      "outputs": [],
      "source": [
        "def generate_dog(img_in, levels):\n",
        "  current_image = subsample(img_in)\n",
        "  current_level = 1\n",
        "  for count in range(1, (levels + 1)):\n",
        "    current_image = dog(img_in)\n",
        "    print('Current Level: ', current_level )\n",
        "    cv2_imshow(current_image)\n",
        "\n"
      ]
    },
    {
      "cell_type": "code",
      "execution_count": null,
      "metadata": {
        "id": "CDW6o6XkEmKk"
      },
      "outputs": [],
      "source": [
        "def cv2_dog(img_in):\n",
        "  high = cv2.GaussianBlur(img_in, (9,9), cv2.BORDER_DEFAULT)\n",
        "  dog = img_in - high\n",
        "  return(dog)\n",
        "  "
      ]
    },
    {
      "cell_type": "code",
      "execution_count": null,
      "metadata": {
        "id": "0-zcQyKgGJqZ"
      },
      "outputs": [],
      "source": [
        "def cv2_generate_dog(img_in, levels):\n",
        "  dogs = []\n",
        "  current_image = cv2.bitwise_not(img_in)\n",
        "  current_level = 0\n",
        "  for count in range(1, (levels + 1)):\n",
        "    print('Current Blur Level: ', current_level)\n",
        "    cv2_imshow(current_image)\n",
        "    difference = cv2_dog(current_image)\n",
        "    current_image = cv2.GaussianBlur(current_image,  (9,9), cv2.BORDER_DEFAULT)\n",
        "    current_level += 1\n",
        "    print('Difference: ')\n",
        "    cv2_imshow(difference)\n",
        "    dogs.append(difference)\n",
        "\n",
        "  return dogs\n"
      ]
    },
    {
      "cell_type": "code",
      "execution_count": null,
      "metadata": {
        "id": "-VAwnnc_qcm_"
      },
      "outputs": [],
      "source": [
        "def extract_feature_points(dog_stack, filter_level, stack_index, max_rad, min_rad):\n",
        "  \"\"\"\n",
        "  Input:\n",
        "\n",
        "  dog_stack: Stack of Difference of Gaussians \n",
        "  filter_level: Kernel Size for median blurring \n",
        "  stack_index: Index of Difference of Gaussian in Stack to be used for feature extraction\n",
        "  max_rad: radius in pixels of largest star\n",
        "  min_rad: radius in pixels of smallest star\n",
        "\n",
        "  Output: \n",
        "\n",
        "  feature_points: n x 3 array of n feature points. (x, y, rad)\n",
        "\n",
        "  \"\"\"\n",
        "  noise_removed = cv2.medianBlur(dog_stack[stack_index], filter_level)\n",
        "  \n",
        "  print('Image After', stack_index, 'Differences of Gaussians')\n",
        "  cv2_imshow(dog_stack[stack_index])\n",
        "  print('Salt and pepper noise removal: ')\n",
        "  cv2_imshow(noise_removed)\n",
        "\n",
        "  m, n = np.shape(noise_removed)\n",
        "  plot = np.zeros((m, n, 3))\n",
        "\n",
        "  feature_points = cv2.HoughCircles(noise_removed, cv2.HOUGH_GRADIENT, 1, 20,param1=15,param2=5,minRadius= min_rad,maxRadius=max_rad)\n",
        "\n",
        "  circles = np.uint16(np.around(feature_points))\n",
        "  for i in circles[0,:]:\n",
        "    # draw the outer circle\n",
        "    cv2.circle(plot,(i[0],i[1]),i[2],(0,255,0),2)\n",
        "    # draw the center of the circle\n",
        "    cv2.circle(plot,(i[0],i[1]),2,(0,0,255),3)\n",
        "  print(np.shape(feature_points)[1], 'Feature Points Detected')\n",
        "  cv2_imshow(plot)\n",
        "  fp = np.squeeze(feature_points)\n",
        "  \n",
        "  radii = []\n",
        "  points = []\n",
        "  \n",
        "  for f in fp:\n",
        "    radii.append(f[2])\n",
        "    points.append((f[0], f[1]))\n",
        "\n",
        "  return points, radii"
      ]
    },
    {
      "cell_type": "code",
      "execution_count": null,
      "metadata": {
        "id": "IS_NRwCldjHO"
      },
      "outputs": [],
      "source": [
        "\n",
        "filename_left = \"IMG_3434.tif\"\n",
        "filename_right = \"IMG_3433.tif\"\n",
        "\n",
        "img_left = cv2.imread(filename_left, cv2.IMREAD_GRAYSCALE)\n",
        "img_right = cv2.imread(filename_right, cv2.IMREAD_GRAYSCALE)\n",
        "\n",
        "\n",
        "\n"
      ]
    },
    {
      "cell_type": "code",
      "execution_count": null,
      "metadata": {
        "id": "m8cdtLEO-KGI"
      },
      "outputs": [],
      "source": [
        "dog_stack_left = cv2_generate_dog(img_left, 10)\n",
        "dog_stack_right = cv2_generate_dog(img_right, 10)"
      ]
    },
    {
      "cell_type": "code",
      "execution_count": null,
      "metadata": {
        "id": "H9l5dZG_-VBZ"
      },
      "outputs": [],
      "source": [
        "feature_points_left, labels_left = extract_feature_points(dog_stack_left, 9, 9, 20, 4)\n",
        "feature_points_right, labels_right = extract_feature_points(dog_stack_right, 9, 9, 20, 4)"
      ]
    },
    {
      "cell_type": "code",
      "execution_count": null,
      "metadata": {
        "colab": {
          "base_uri": "https://localhost:8080/"
        },
        "id": "iaQ48YrpYNwo",
        "outputId": "9362b04c-fd4f-4f8c-fcd9-aa85a00d7a08"
      },
      "outputs": [
        {
          "output_type": "stream",
          "name": "stdout",
          "text": [
            "[(3608.5, 863.5), (5463.5, 2270.5), (1207.5, 89.5), (1469.5, 4005.5), (3051.5, 2576.5), (4991.5, 3477.5), (1203.5, 1750.5), (3654.5, 1061.5), (4568.5, 510.5), (2580.5, 589.5), (1423.5, 1177.5), (1299.5, 2524.5), (3013.5, 176.5), (2952.5, 2135.5), (5390.5, 1542.5), (4251.5, 2493.5), (3419.5, 2475.5), (1950.5, 2979.5), (1036.5, 4126.5), (2393.5, 3926.5), (2401.5, 2007.5), (272.5, 3287.5), (4369.5, 1207.5), (2256.5, 3375.5), (774.5, 613.5), (2526.5, 359.5), (6023.5, 3551.5), (1454.5, 1443.5), (4372.5, 3214.5), (1104.5, 2481.5), (6218.5, 1588.5), (1458.5, 69.5), (4864.5, 2704.5), (1970.5, 4054.5), (2284.5, 768.5), (2113.5, 1511.5), (3612.5, 3670.5), (802.5, 3941.5), (2596.5, 4108.5), (1516.5, 378.5), (1905.5, 3664.5), (5399.5, 1372.5), (2335.5, 3416.5), (3331.5, 676.5), (789.5, 1760.5), (4217.5, 3663.5), (3179.5, 644.5), (6204.5, 1682.5), (1609.5, 1188.5), (1810.5, 4130.5), (5419.5, 3636.5), (5077.5, 2528.5), (56.5, 2582.5), (237.5, 1441.5), (2936.5, 1451.5), (6087.5, 2167.5), (3361.5, 3880.5), (1665.5, 504.5), (5208.5, 1727.5), (5730.5, 3019.5), (725.5, 1465.5), (1080.5, 2379.5), (5312.5, 749.5), (3617.5, 2728.5), (2787.5, 878.5), (5587.5, 200.5), (4479.5, 2986.5), (5896.5, 2229.5), (784.5, 2693.5), (3403.5, 1536.5), (6017.5, 1379.5), (3335.5, 3920.5), (5827.5, 3476.5), (1232.5, 1135.5), (4636.5, 879.5), (4952.5, 3392.5), (4628.5, 958.5), (2549.5, 2341.5), (3141.5, 2849.5), (2994.5, 414.5), (982.5, 1392.5), (2255.5, 1585.5), (4200.5, 1963.5), (3294.5, 3423.5), (5372.5, 1428.5), (4396.5, 2995.5), (5124.5, 3800.5), (3620.5, 792.5), (2226.5, 3358.5), (811.5, 873.5), (3720.5, 49.5), (888.5, 1619.5), (1914.5, 3542.5), (4045.5, 2153.5), (5404.5, 2408.5), (634.5, 3203.5), (5265.5, 317.5), (1388.5, 643.5), (4052.5, 3003.5), (3248.5, 2329.5), (2842.5, 2036.5), (992.5, 2094.5), (4379.5, 2653.5), (1010.5, 1144.5), (2617.5, 624.5), (4887.5, 3624.5), (4761.5, 3656.5), (4255.5, 1443.5), (264.5, 1103.5), (2389.5, 2385.5), (5621.5, 1443.5), (516.5, 1788.5), (2669.5, 1381.5), (3031.5, 2589.5), (2339.5, 193.5), (2966.5, 2325.5), (4805.5, 558.5), (4275.5, 1833.5), (3128.5, 1430.5), (3867.5, 527.5), (2746.5, 146.5), (1929.5, 1729.5), (3956.5, 613.5), (4947.5, 1674.5), (5323.5, 443.5), (1701.5, 1403.5), (3922.5, 2881.5), (4798.5, 597.5), (1273.5, 4043.5), (4427.5, 4078.5), (5821.5, 2294.5), (4336.5, 2076.5), (4854.5, 482.5), (5545.5, 2550.5), (911.5, 2058.5), (3272.5, 1136.5), (4438.5, 2535.5), (1723.5, 4003.5), (753.5, 2331.5), (1141.5, 1488.5), (765.5, 380.5), (4862.5, 2764.5), (2563.5, 3065.5), (4248.5, 3311.5), (374.5, 1098.5), (1375.5, 2193.5), (5046.5, 1772.5), (968.5, 3098.5), (1593.5, 2488.5), (4078.5, 3316.5), (3668.5, 3612.5), (3160.5, 4016.5), (1758.5, 3562.5), (2421.5, 1794.5), (2677.5, 1354.5), (4102.5, 1928.5), (1421.5, 3784.5), (3575.5, 1423.5), (3534.5, 1590.5), (4910.5, 2903.5), (3706.5, 3367.5), (2802.5, 2928.5), (4561.5, 1433.5), (2619.5, 3709.5), (2736.5, 3308.5), (2997.5, 1041.5), (3314.5, 3208.5), (476.5, 2589.5), (1601.5, 3463.5), (2158.5, 423.5), (777.5, 4087.5), (5652.5, 1444.5), (4301.5, 2217.5), (5499.5, 2960.5), (3849.5, 1050.5), (4013.5, 483.5), (4547.5, 2008.5), (5278.5, 3761.5), (1667.5, 2515.5), (4947.5, 3034.5), (2318.5, 2131.5), (2208.5, 1685.5), (2734.5, 2420.5), (2443.5, 1841.5), (4861.5, 3798.5), (1476.5, 2264.5), (4291.5, 714.5), (4689.5, 204.5), (1998.5, 1137.5), (4259.5, 979.5), (3721.5, 3830.5), (2034.5, 3183.5), (5491.5, 2744.5), (4607.5, 1906.5), (5948.5, 3820.5), (6153.5, 775.5), (109.5, 503.5), (2400.5, 1368.5), (3282.5, 818.5), (1301.5, 297.5), (1953.5, 1457.5), (5778.5, 348.5), (2306.5, 3277.5), (2639.5, 2429.5), (3509.5, 868.5), (6061.5, 1233.5), (4517.5, 4144.5), (1651.5, 909.5), (2987.5, 966.5), (3240.5, 4042.5), (475.5, 2347.5), (5012.5, 3564.5), (6023.5, 1998.5), (1096.5, 2554.5), (3386.5, 1517.5), (5503.5, 1295.5), (314.5, 3137.5), (1188.5, 3138.5), (1714.5, 2408.5), (2401.5, 185.5), (1611.5, 969.5), (2271.5, 3550.5), (6035.5, 957.5), (4966.5, 1534.5), (6128.5, 1234.5), (3584.5, 2823.5), (4665.5, 3325.5), (293.5, 3073.5), (2476.5, 3274.5), (3319.5, 55.5), (4400.5, 2141.5), (5915.5, 2300.5), (2561.5, 1655.5), (445.5, 1341.5), (2381.5, 777.5), (4762.5, 137.5), (2296.5, 1553.5), (3197.5, 1656.5), (5794.5, 1961.5), (4467.5, 3500.5), (4126.5, 1915.5), (5781.5, 488.5), (5928.5, 1134.5), (6206.5, 2059.5), (3585.5, 1043.5), (4419.5, 1604.5), (5557.5, 1896.5), (406.5, 951.5), (1470.5, 3215.5), (1792.5, 3049.5), (2961.5, 2692.5), (4453.5, 2322.5), (5392.5, 1036.5), (3201.5, 1069.5), (5039.5, 3478.5), (187.5, 1452.5), (5552.5, 3132.5), (775.5, 3949.5), (2970.5, 863.5), (1390.5, 1748.5), (1763.5, 4054.5), (2047.5, 839.5), (4004.5, 2366.5), (685.5, 3576.5), (1759.5, 2466.5), (2391.5, 3512.5), (5656.5, 1540.5), (4760.5, 2497.5), (3005.5, 2549.5), (5519.5, 1512.5), (4485.5, 122.5), (4688.5, 3962.5), (5483.5, 519.5), (6144.5, 165.5), (1181.5, 3288.5), (5407.5, 2222.5), (6109.5, 3144.5), (4800.5, 3209.5), (3515.5, 4158.5), (2803.5, 1753.5), (469.5, 2849.5), (3679.5, 1719.5), (5401.5, 3239.5), (3265.5, 1739.5), (699.5, 130.5), (2869.5, 1633.5), (2998.5, 126.5), (5452.5, 2886.5), (5091.5, 1509.5), (5227.5, 1583.5), (5924.5, 2875.5), (529.5, 4113.5), (1639.5, 3075.5), (3881.5, 1039.5), (4225.5, 3361.5), (3574.5, 940.5), (5399.5, 2608.5), (577.5, 676.5), (854.5, 2199.5), (1614.5, 2272.5), (3988.5, 2858.5), (4440.5, 3121.5), (4790.5, 1397.5), (5069.5, 2610.5), (2200.5, 1651.5), (4345.5, 4072.5), (586.5, 1831.5), (1245.5, 3328.5), (2068.5, 1097.5), (2179.5, 1549.5), (3202.5, 1356.5), (4467.5, 1951.5), (4766.5, 715.5), (947.5, 450.5), (3093.5, 957.5), (4773.5, 2267.5), (2097.5, 299.5), (2781.5, 2528.5), (1457.5, 3037.5), (1613.5, 2958.5), (1708.5, 1939.5), (1840.5, 1134.5), (2938.5, 4078.5), (1466.5, 552.5), (3721.5, 3223.5), (3821.5, 2521.5), (4592.5, 246.5), (5367.5, 795.5), (5558.5, 3779.5), (484.5, 2480.5), (3672.5, 2406.5), (2921.5, 2392.5), (3058.5, 112.5), (2636.5, 2983.5), (3452.5, 2822.5), (5658.5, 1347.5), (2124.5, 3213.5), (2407.5, 3976.5), (5797.5, 2335.5), (2262.5, 3624.5), (2961.5, 1222.5), (3446.5, 50.5), (3489.5, 2703.5), (910.5, 3608.5), (1560.5, 1279.5), (3649.5, 218.5), (3730.5, 1629.5), (5290.5, 636.5), (1976.5, 1956.5), (2661.5, 3804.5), (3180.5, 951.5), (172.5, 3591.5), (1627.5, 1003.5), (2129.5, 1356.5), (2207.5, 314.5), (2219.5, 104.5), (5056.5, 3059.5), (5158.5, 227.5), (5627.5, 2431.5), (3985.5, 2230.5), (5124.5, 3735.5), (1882.5, 1939.5), (2741.5, 3761.5), (4679.5, 3821.5), (1821.5, 3786.5), (3469.5, 2570.5), (3513.5, 2844.5), (4265.5, 2153.5), (4628.5, 3399.5), (4079.5, 2789.5), (73.5, 2757.5), (4485.5, 3398.5), (5921.5, 1159.5), (2285.5, 2124.5), (4382.5, 380.5), (1143.5, 2394.5), (1322.5, 936.5), (2282.5, 1244.5), (3087.5, 2278.5), (4209.5, 1176.5), (5668.5, 2083.5), (3839.5, 2785.5), (1907.5, 3010.5), (2835.5, 2495.5), (3650.5, 1609.5), (3841.5, 3167.5), (4716.5, 3275.5), (4871.5, 2302.5), (5049.5, 2031.5), (2287.5, 466.5), (5155.5, 2857.5), (3089.5, 3982.5), (6025.5, 1764.5), (278.5, 1135.5), (3566.5, 3342.5), (524.5, 2698.5), (966.5, 385.5), (1247.5, 341.5), (1978.5, 2147.5), (3518.5, 2800.5), (3924.5, 2370.5), (4792.5, 2321.5), (5603.5, 3270.5), (4557.5, 1551.5), (4636.5, 1058.5), (5749.5, 3557.5), (2431.5, 1444.5), (3905.5, 2755.5), (3913.5, 1324.5), (4838.5, 3667.5), (1917.5, 743.5), (3001.5, 1609.5), (1274.5, 1838.5), (3851.5, 1641.5), (4591.5, 4041.5), (929.5, 2326.5), (1246.5, 1191.5), (2958.5, 3829.5), (3779.5, 2222.5), (820.5, 1838.5), (2338.5, 1218.5), (2535.5, 2109.5), (4773.5, 95.5), (5330.5, 370.5), (6196.5, 2604.5), (2864.5, 2220.5), (4794.5, 1447.5), (2965.5, 2712.5), (6150.5, 483.5), (5268.5, 2561.5), (5034.5, 3921.5), (2733.5, 1927.5), (4327.5, 542.5), (4853.5, 530.5), (5944.5, 2470.5), (10.5, 212.5), (1665.5, 3698.5), (4089.5, 2078.5), (4125.5, 771.5), (4274.5, 2051.5), (5476.5, 2013.5), (5546.5, 3974.5), (6122.5, 2750.5), (5510.5, 2401.5), (1706.5, 3986.5), (3659.5, 2169.5), (3237.5, 2699.5), (5941.5, 510.5), (508.5, 2608.5), (2172.5, 3595.5), (4116.5, 3688.5), (1169.5, 784.5), (3579.5, 3658.5), (4302.5, 3588.5), (4448.5, 3284.5), (4577.5, 4116.5), (5190.5, 275.5), (2851.5, 3271.5), (5895.5, 3094.5), (3822.5, 265.5), (2026.5, 746.5), (3073.5, 505.5), (5115.5, 862.5), (5928.5, 3938.5), (1001.5, 2194.5), (2733.5, 2529.5), (3638.5, 766.5), (4895.5, 1828.5), (6146.5, 2071.5), (3087.5, 2021.5), (3530.5, 2175.5), (4421.5, 1052.5), (3134.5, 3906.5), (3899.5, 2922.5), (4189.5, 2264.5), (2532.5, 3231.5), (1404.5, 2057.5), (2907.5, 2612.5), (3068.5, 3336.5), (5906.5, 3860.5), (5851.5, 232.5), (5629.5, 62.5), (4905.5, 3208.5), (4422.5, 2488.5), (2768.5, 3494.5), (6205.5, 3805.5), (1735.5, 3013.5), (1962.5, 2471.5), (5899.5, 983.5), (1969.5, 2396.5), (4452.5, 3342.5), (4637.5, 1546.5), (3413.5, 2607.5), (4021.5, 4024.5), (5529.5, 825.5)]\n"
          ]
        }
      ],
      "source": [
        "print(feature_points_left)"
      ]
    },
    {
      "cell_type": "code",
      "source": [
        "def get_NearestNeighbors(index, features, n):\n",
        "  current_star = features[index]\n",
        "  nearest_neighbors = []\n",
        "  i = 0\n",
        "  for feature in features:\n",
        "    a = np.array([current_star[0], current_star[1], 0])\n",
        "    b = np.array([feature[0], feature[1], 0])\n",
        "    distance = np.linalg.norm(a - b)\n",
        "    nearest_neighbors.append((int(distance), i))\n",
        "    i += 1\n",
        "  nearest_neighbors = sorted(nearest_neighbors)\n",
        "  return((nearest_neighbors[: 25]))\n",
        "  \n",
        "get_NearestNeighbors(0, feature_points_left, 25)"
      ],
      "metadata": {
        "id": "G9kuSOgDA570"
      },
      "execution_count": null,
      "outputs": []
    },
    {
      "cell_type": "code",
      "execution_count": null,
      "metadata": {
        "id": "klVrUi8kXy54",
        "colab": {
          "base_uri": "https://localhost:8080/"
        },
        "outputId": "b17a565c-7bd6-4ffb-8853-97357b31437c"
      },
      "outputs": [
        {
          "output_type": "stream",
          "name": "stdout",
          "text": [
            "(495, 25)\n",
            "neighbors /n [[  0.  87. 295. ... 208. 459. 165.]\n",
            " [  1. 275. 443. ...  58. 287. 212.]\n",
            " [  2. 199.  31. ... 169. 355. 354.]\n",
            " ...\n",
            " [492. 365. 342. ... 445. 477. 407.]\n",
            " [493. 305. 450. ... 143. 371. 209.]\n",
            " [494. 327.  62. ... 195.  65. 171.]] /n\n",
            "distances /n [[   0.   72.   84. ...  629.  635.  636.]\n",
            " [   0.   73.  139. ...  599.  616.  622.]\n",
            " [   0.  228.  251. ... 1007. 1012. 1025.]\n",
            " ...\n",
            " [   0.   67.  122. ...  502.  506.  513.]\n",
            " [   0.  327.  349. ...  748.  779.  781.]\n",
            " [   0.  164.  229. ...  626.  627.  631.]] /n\n",
            "(547, 25)\n",
            "right neighbors /n [[  0. 287. 230. ... 298. 229. 286.]\n",
            " [  1. 386. 279. ... 151. 463. 502.]\n",
            " [  2. 205. 397. ... 316. 445. 512.]\n",
            " ...\n",
            " [544. 142. 345. ... 344. 298. 113.]\n",
            " [545. 524.  84. ... 507. 388. 444.]\n",
            " [546. 436. 439. ... 258. 197.  88.]] /n\n",
            "right distances /n [[  0. 164. 169. ... 476. 492. 514.]\n",
            " [  0. 122. 151. ... 638. 646. 687.]\n",
            " [  0.  70. 145. ... 539. 544. 547.]\n",
            " ...\n",
            " [  0. 170. 229. ... 476. 483. 509.]\n",
            " [  0. 130. 158. ... 808. 824. 840.]\n",
            " [  0. 221. 335. ... 842. 854. 868.]] /n\n"
          ]
        }
      ],
      "source": [
        "\n",
        "def match_features(features_src, features_dst):\n",
        " \n",
        "  n_neighbors = 25\n",
        "\n",
        "  #left neighbors\n",
        "  n_features_left = len(features_src[:])\n",
        " \n",
        "  left_neighbors = np.zeros(( n_features_left,n_neighbors))\n",
        "  left_distances = np.zeros(( n_features_left,n_neighbors))\n",
        "  #print(left_neighbors)\n",
        "  for i in range(n_features_left):\n",
        "    ln = np.array(get_NearestNeighbors(i, feature_points_left, 25))\n",
        "    #print(\"ln\",ln,'/n')\n",
        "    #ln outputs the array of 25 2D-Tuples per Star that shows the nearest neighbor and its distance\n",
        "  \n",
        "    for j in range(n_neighbors):\n",
        "\n",
        "      left_neighbors[i][j]= ln[j][1]\n",
        "      left_distances[i][j]= ln[j][0]\n",
        "   \n",
        "  #right neighbors\n",
        "  n_features_right = len(features_dst[:])\n",
        " \n",
        "  right_neighbors = np.zeros(( n_features_right,n_neighbors))\n",
        "  right_distances = np.zeros(( n_features_right,n_neighbors))\n",
        "  #print(left_neighbors)\n",
        "  for i in range(n_features_right):\n",
        "    ln = np.array(get_NearestNeighbors(i, feature_points_right, 25))\n",
        "    #print(\"ln\",ln,'/n')\n",
        "    #ln outputs the array of 25 2D-Tuples per Star that shows the nearest neighbor and its distance\n",
        "  \n",
        "    for j in range(n_neighbors):\n",
        "\n",
        "      right_neighbors[i][j]= ln[j][1]\n",
        "      right_distances[i][j]= ln[j][0]\n",
        "  #do a repeat of the same thing for right\n",
        "  print(np.shape(left_neighbors))\n",
        "  print(\"neighbors\",'/n',left_neighbors,'/n')\n",
        "  print(\"distances\",'/n',left_distances,'/n')\n",
        "\n",
        "  print(np.shape(right_neighbors))\n",
        "  print(\"right neighbors\",'/n',right_neighbors,'/n')\n",
        "  print(\"right distances\",'/n',right_distances,'/n')\n",
        "  ######################################################\n",
        "  #Now its time to find the matches for the  neighbors\n",
        "  # \n",
        "  rand_left= np.rand\n",
        "match_features(feature_points_left,feature_points_right)"
      ]
    },
    {
      "cell_type": "code",
      "execution_count": null,
      "metadata": {
        "id": "CjkH54fGYHTN",
        "colab": {
          "base_uri": "https://localhost:8080/"
        },
        "outputId": "b761e661-edcd-4032-efdb-584e8e3d8570"
      },
      "outputs": [
        {
          "output_type": "stream",
          "name": "stdout",
          "text": [
            "[[0.         1.        ]\n",
            " [1.         1.        ]\n",
            " [2.         3.16227766]\n",
            " [0.         1.        ]\n",
            " [0.         1.        ]\n",
            " [1.         1.        ]] /n/n\n",
            " \n",
            "[[0.         1.        ]\n",
            " [0.         1.        ]\n",
            " [0.         1.41421356]\n",
            " [0.         1.        ]\n",
            " [0.         1.        ]\n",
            " [0.         1.41421356]] /n/n\n"
          ]
        }
      ],
      "source": [
        "from sklearn.neighbors import NearestNeighbors\n",
        "#def feature_matching(features_src, features_dst,threshold=0.7):\n",
        "#for p in range(len(300)):\n",
        "# X= features_src\n",
        "X = np.array([[-1, -1], [-2, -1], [-3, -2], [1, 1], [2, 1], [3, 2]])\n",
        "Y= np.array([[-1, -1], [-3, -1], [-3, -4], [1, 1], [2, 1], [2, 2]])\n",
        "K = 2\n",
        "nbrs = NearestNeighbors(n_neighbors=K, algorithm='ball_tree').fit(X)\n",
        "Xdistances, Xindices = nbrs.kneighbors(X)\n",
        "distances, indices = nbrs.kneighbors(Y)\n",
        "print(distances,'/n''/n')\n",
        "print(\" \")\n",
        "print(Xdistances,'/n''/n')\n",
        "#print(indices)"
      ]
    }
  ],
  "metadata": {
    "colab": {
      "provenance": []
    },
    "kernelspec": {
      "display_name": "Python 3",
      "name": "python3"
    },
    "language_info": {
      "name": "python"
    }
  },
  "nbformat": 4,
  "nbformat_minor": 0
}